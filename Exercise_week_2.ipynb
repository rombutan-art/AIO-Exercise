{
  "nbformat": 4,
  "nbformat_minor": 0,
  "metadata": {
    "colab": {
      "provenance": [],
      "authorship_tag": "ABX9TyMkjeRLgkUjIQen53wbkjcd",
      "include_colab_link": true
    },
    "kernelspec": {
      "name": "python3",
      "display_name": "Python 3"
    },
    "language_info": {
      "name": "python"
    }
  },
  "cells": [
    {
      "cell_type": "markdown",
      "metadata": {
        "id": "view-in-github",
        "colab_type": "text"
      },
      "source": [
        "<a href=\"https://colab.research.google.com/github/rombutan-art/AIO-Exercise/blob/develop/Exercise_week_2.ipynb\" target=\"_parent\"><img src=\"https://colab.research.google.com/assets/colab-badge.svg\" alt=\"Open In Colab\"/></a>"
      ]
    },
    {
      "cell_type": "code",
      "execution_count": 28,
      "metadata": {
        "colab": {
          "base_uri": "https://localhost:8080/"
        },
        "id": "9cwduOeuVWXh",
        "outputId": "ce375229-54ba-4305-b494-1fe3b1a1441d"
      },
      "outputs": [
        {
          "output_type": "stream",
          "name": "stdout",
          "text": [
            "Enter a word: too much homework huhu\n",
            "{'t': 1, 'o': 4, 'm': 2, 'u': 3, 'c': 1, 'h': 4, 'e': 1, 'w': 1, 'r': 1, 'k': 1}\n"
          ]
        }
      ],
      "source": [
        "\"2. Count the number of characters in a string and store them in a dictionary data structure\"\n",
        "\n",
        "\"\"\"\n",
        "    This function count number of characters.\n",
        "    Input: string.\n",
        "    Output: dictionary.\n",
        "\"\"\"\n",
        "\n",
        "def count_chars(string):\n",
        "    char_count = {}\n",
        "    for char in string:\n",
        "    # Check condition that only alphabetic characters are counted\n",
        "        if char.isalpha():\n",
        "            if char in char_count:\n",
        "                char_count[char] += 1\n",
        "            else:\n",
        "                char_count[char] = 1\n",
        "    return char_count\n",
        "\n",
        "# Input a word and counts characters\n",
        "user_input = input(\"Enter a word: \")\n",
        "char_counts = count_chars(user_input)\n",
        "print(char_counts)\n",
        "\n",
        "# Test case\n",
        "test_case_1 = 'too much'\n",
        "expected_1 = {'t': 1, 'o': 2, 'm': 1, 'u': 1, 'c': 1, 'h': 1}\n",
        "assert count_chars(test_case_1) == expected_1, f\"Test case 1 failed: {count_chars(test_case_1)} != {expected_1}\"\n",
        "\n",
        "\n",
        "\n"
      ]
    },
    {
      "cell_type": "code",
      "source": [
        "\"3. Count the number of words in a text file and store them in a dictionary data structure\"\n",
        "\n",
        "\"\"\"\n",
        "    This function read file, count number of words with link provided.\n",
        "    Input: file txt\n",
        "    Output: dictionary.\n",
        "\"\"\"\n",
        "\n",
        "import gdown\n",
        "\n",
        "url = 'https://drive.google.com/uc?id=1IBScGdW2xlNsc9v5zSAya548kNgiOrko'\n",
        "output = 'P1_data.txt'\n",
        "gdown.download(url, output, quiet=False)\n",
        "\n",
        "def word_count(file_path):\n",
        "    word_statistic = {}\n",
        "    with open(file_path, 'r') as file:\n",
        "        for line in file:\n",
        "            # Normalize the text to lowercase\n",
        "            line = line.lower()\n",
        "            # Tokenize the line into words\n",
        "            words = line.split()\n",
        "            # Count each word\n",
        "            for word in words:\n",
        "                if word in word_statistic:\n",
        "                    word_statistic[word] += 1\n",
        "                else:\n",
        "                    word_statistic[word] = 1\n",
        "    return word_statistic\n",
        "\n",
        "# Test case\n",
        "assert result['a'] == 7, f\"Expected 7 but got {result['a']}\"\n",
        "assert result['he'] == 1, f\"Expected 1 but got {result['he']}\"\n",
        "\n",
        "# Print result\n",
        "file_path = 'P1_data.txt'\n",
        "result = word_count(file_path)\n",
        "print(result)\n",
        "\n",
        "\n"
      ],
      "metadata": {
        "colab": {
          "base_uri": "https://localhost:8080/"
        },
        "id": "a7IOVPeZZa0I",
        "outputId": "8a4b5fb9-b266-484e-8a1a-e74ab4c11e75"
      },
      "execution_count": 26,
      "outputs": [
        {
          "output_type": "stream",
          "name": "stderr",
          "text": [
            "Downloading...\n",
            "From: https://drive.google.com/uc?id=1IBScGdW2xlNsc9v5zSAya548kNgiOrko\n",
            "To: /content/P1_data.txt\n",
            "100%|██████████| 747/747 [00:00<00:00, 1.97MB/s]"
          ]
        },
        {
          "output_type": "stream",
          "name": "stdout",
          "text": [
            "{'he': 1, 'who': 3, 'conquers': 1, 'himself': 1, 'is': 3, 'the': 5, 'mightiest': 1, 'warrior': 1, 'try': 2, 'not': 1, 'to': 3, 'become': 2, 'a': 7, 'man': 6, 'of': 4, 'success': 3, 'but': 1, 'rather': 1, 'value': 1, 'one': 4, 'with': 4, 'courage': 1, 'makes': 1, 'majority': 1, 'secret': 1, 'in': 4, 'life': 2, 'for': 3, 'be': 1, 'ready': 1, 'his': 2, 'opportunity': 1, 'when': 2, 'it': 2, 'comes': 2, 'successful': 2, 'will': 2, 'profit': 1, 'from': 1, 'mistakes': 1, 'and': 1, 'again': 1, 'different': 1, 'way': 1, 'can': 3, 'lay': 1, 'firm': 1, 'foundation': 1, 'bricks': 1, 'others': 1, 'have': 1, 'thrown': 1, 'at': 1, 'him': 1, 'usually': 1, 'those': 1, 'are': 1, 'too': 1, 'busy': 1, 'looking': 1, 'we': 3, 'cannot': 1, 'solve': 1, 'problems': 1, 'kind': 1, 'thinking': 1, 'employed': 1, 'came': 1, 'up': 1, 'them': 1, 'just': 2, 'small': 1, 'positive': 1, 'thought': 1, 'morning': 1, 'change': 1, 'your': 1, 'whole': 1, 'day': 1, 'you': 3, 'get': 2, 'everything': 1, 'want': 2, 'if': 1, 'help': 1, 'enough': 1, 'other': 1, 'people': 1, 'what': 1, 'they': 1}\n"
          ]
        },
        {
          "output_type": "stream",
          "name": "stderr",
          "text": [
            "\n"
          ]
        }
      ]
    },
    {
      "cell_type": "code",
      "source": [],
      "metadata": {
        "id": "7rAid05vhO91"
      },
      "execution_count": 25,
      "outputs": []
    }
  ]
}